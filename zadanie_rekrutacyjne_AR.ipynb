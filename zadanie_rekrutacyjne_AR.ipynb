{
 "cells": [
  {
   "cell_type": "markdown",
   "metadata": {},
   "source": [
    "**Seria warsztatów z analizy danych w Pythonie**\n",
    "\n",
    "_Zadanie rekrutacyjne_\n",
    "\n",
    "Napisz funkcję <code><font color=\"blue\">are_anagrams</font>(s1, s2, s3)</code>, która zwróci:\n",
    "\n",
    "* <code>True</code>, jeżeli łańcuchy znaków <code>s1, s2, s3</code> są anagramami,\n",
    "\n",
    "* <code>False</code>, jeżeli łańcuchy znaków <code>s1, s2, s3</code> nie są anagramami.\n",
    "\n",
    "Załóż, że maksymalna długość każdego z łańcuchów znaków jest równa **5**.\n",
    "\n",
    "Uzasadnij zaproponowane rozwiązanie, umieszczając komentarze w treści kodu."
   ]
  },
  {
   "cell_type": "code",
   "execution_count": 77,
   "metadata": {},
   "outputs": [],
   "source": [
    "def are_anagrams(s1, s2, s3):\n",
    "    \n",
    "# sprawdzanie, czy dlugosci lancuchow znakow sa takie same i mniejsze niz 5 (wytyczne zadania) - jesli nie to zwraca False:\n",
    "    if len(s1)==len(s2) and len(s1)==len(s3) and len(s1)<=5:        \n",
    "# sprawdzanie czy każdy znak, po kolei, znajduje się w danym lancuchu znakow i jego usuwanie:\n",
    "        for x in s1:\n",
    "            if x in s2:\n",
    "                s2 = s2.replace(x, \"\", 1)                \n",
    "# jesli znaku nie ma, lub jesli wszystkie znaki zostaly wczesniej usuniete z powodu powtorzen - \n",
    "# wyrazy nie sa anagramami - funkcja zwraca False\n",
    "            else:\n",
    "                return False\n",
    "            if x in s3:\n",
    "                s3 = s3.replace(x, \"\", 1)\n",
    "            else:\n",
    "                return False\n",
    "    else: \n",
    "        return False\n",
    "# po sprawdzeniu wszystkich warunkow i przejsciu petli przez caly lancuch s1, potwierdzenie, ze slowa sa anagramami:\n",
    "    return True"
   ]
  }
 ],
 "metadata": {
  "celltoolbar": "Edit Metadata",
  "kernelspec": {
   "display_name": "Python 3",
   "language": "python",
   "name": "python3"
  },
  "language_info": {
   "codemirror_mode": {
    "name": "ipython",
    "version": 3
   },
   "file_extension": ".py",
   "mimetype": "text/x-python",
   "name": "python",
   "nbconvert_exporter": "python",
   "pygments_lexer": "ipython3",
   "version": "3.8.2"
  }
 },
 "nbformat": 4,
 "nbformat_minor": 2
}
